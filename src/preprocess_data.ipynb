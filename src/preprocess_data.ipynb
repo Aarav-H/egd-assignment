{
 "cells": [
  {
   "cell_type": "code",
   "execution_count": 6,
   "metadata": {},
   "outputs": [],
   "source": [
    "from utils import data_utils\n",
    "import os"
   ]
  },
  {
   "cell_type": "code",
   "execution_count": 7,
   "metadata": {},
   "outputs": [
    {
     "name": "stdout",
     "output_type": "stream",
     "text": [
      "../data/clean/worldbank_data_india_clean.xlsx\n",
      "Written to file ../data/clean/worldbank_data_india_clean.xlsx\n"
     ]
    }
   ],
   "source": [
    "data_utils.clean_data(\"../data/raw/worldbank_data_india_raw.xlsx\")"
   ]
  },
  {
   "cell_type": "code",
   "execution_count": 17,
   "metadata": {},
   "outputs": [
    {
     "name": "stdout",
     "output_type": "stream",
     "text": [
      "../data/raw/worldbank_data_albania_raw.xlsx\n",
      "../data/clean/worldbank_data_albania_clean.xlsx\n",
      "Written to file ../data/clean/worldbank_data_albania_clean.xlsx\n",
      "../data/raw/worldbank_data_brazil_raw.xlsx\n",
      "../data/clean/worldbank_data_brazil_clean.xlsx\n",
      "Written to file ../data/clean/worldbank_data_brazil_clean.xlsx\n",
      "../data/raw/worldbank_data_china_raw.xlsx\n",
      "../data/clean/worldbank_data_china_clean.xlsx\n",
      "Written to file ../data/clean/worldbank_data_china_clean.xlsx\n",
      "../data/raw/worldbank_data_ecuador_raw.xlsx\n",
      "../data/clean/worldbank_data_ecuador_clean.xlsx\n",
      "Written to file ../data/clean/worldbank_data_ecuador_clean.xlsx\n",
      "../data/raw/worldbank_data_france_raw.xlsx\n",
      "../data/clean/worldbank_data_france_clean.xlsx\n",
      "Written to file ../data/clean/worldbank_data_france_clean.xlsx\n",
      "../data/raw/worldbank_data_ghana_raw.xlsx\n",
      "../data/clean/worldbank_data_ghana_clean.xlsx\n",
      "Written to file ../data/clean/worldbank_data_ghana_clean.xlsx\n",
      "../data/raw/worldbank_data_india_raw.xlsx\n",
      "../data/clean/worldbank_data_india_clean.xlsx\n",
      "Written to file ../data/clean/worldbank_data_india_clean.xlsx\n",
      "../data/raw/worldbank_data_korea_raw.xlsx\n",
      "../data/clean/worldbank_data_korea_clean.xlsx\n",
      "Written to file ../data/clean/worldbank_data_korea_clean.xlsx\n",
      "../data/raw/worldbank_data_mexico_raw.xlsx\n",
      "../data/clean/worldbank_data_mexico_clean.xlsx\n",
      "Written to file ../data/clean/worldbank_data_mexico_clean.xlsx\n",
      "../data/raw/worldbank_data_norway_raw.xlsx\n",
      "../data/clean/worldbank_data_norway_clean.xlsx\n",
      "Written to file ../data/clean/worldbank_data_norway_clean.xlsx\n",
      "../data/raw/worldbank_data_russia_raw.xlsx\n",
      "../data/clean/worldbank_data_russia_clean.xlsx\n",
      "Written to file ../data/clean/worldbank_data_russia_clean.xlsx\n",
      "../data/raw/worldbank_data_switzerland_raw.xlsx\n",
      "../data/clean/worldbank_data_switzerland_clean.xlsx\n",
      "Written to file ../data/clean/worldbank_data_switzerland_clean.xlsx\n",
      "../data/raw/worldbank_data_uk_raw.xlsx\n",
      "../data/clean/worldbank_data_uk_clean.xlsx\n",
      "Written to file ../data/clean/worldbank_data_uk_clean.xlsx\n",
      "../data/raw/worldbank_data_usa_raw.xlsx\n",
      "../data/clean/worldbank_data_usa_clean.xlsx\n",
      "Written to file ../data/clean/worldbank_data_usa_clean.xlsx\n"
     ]
    }
   ],
   "source": [
    "root = \"../data/raw/\"\n",
    "for file in os.listdir(root):\n",
    "    filename = root+file\n",
    "    print(filename)\n",
    "    data_utils.clean_data(filename)"
   ]
  },
  {
   "cell_type": "code",
   "execution_count": null,
   "metadata": {},
   "outputs": [],
   "source": []
  }
 ],
 "metadata": {
  "kernelspec": {
   "display_name": "egd-env",
   "language": "python",
   "name": "python3"
  },
  "language_info": {
   "codemirror_mode": {
    "name": "ipython",
    "version": 3
   },
   "file_extension": ".py",
   "mimetype": "text/x-python",
   "name": "python",
   "nbconvert_exporter": "python",
   "pygments_lexer": "ipython3",
   "version": "3.12.1"
  }
 },
 "nbformat": 4,
 "nbformat_minor": 2
}
